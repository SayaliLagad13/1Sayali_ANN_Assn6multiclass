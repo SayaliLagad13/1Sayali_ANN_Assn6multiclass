{
 "cells": [
  {
   "cell_type": "code",
   "execution_count": 1,
   "id": "be1047df",
   "metadata": {},
   "outputs": [],
   "source": [
    "import numpy as np\n",
    "\n",
    "class ANN:\n",
    "    def __init__(self, input_size, hidden_layers, hidden_neurons, output_size, learning_rate):\n",
    "        self.weights=[]\n",
    "        self.bias=[]\n",
    "        self.hidden_layers = hidden_layers\n",
    "        self.learning_rate = learning_rate;\n",
    "        \n",
    "        for i in range(hidden_layers + 1):\n",
    "            if i==0:\n",
    "                self.weights.append(np.random.randn(hidden_neurons, input_size))\n",
    "                self.bias.append(np.full((hidden_neurons, 1),1))\n",
    "            elif i==hidden_layers:\n",
    "                self.weights.append(np.random.randn(output_size, hidden_neurons))\n",
    "                self.bias.append(np.full((output_size, 1),1))\n",
    "            else:\n",
    "                self.weights.append(np.random.randn(hidden_neurons, hidden_neurons))\n",
    "                self.bias.append(np.full((hidden_neurons, 1),1))\n",
    "    \n",
    "    def sigmoid(self, x):\n",
    "        return 1/(1+np.exp(-x))\n",
    "    \n",
    "    def first_order_sigmoid(self, x):\n",
    "        return self.sigmoid(x) * (1 - self.sigmoid(x))\n",
    "    \n",
    "    def forward(self, x):\n",
    "        activations = []\n",
    "        activations.append(x)\n",
    "        for i in range(self.hidden_layers + 1):\n",
    "            x=np.dot(self.weights[i], activations[i]) + self.bias[i]\n",
    "            activations.append(self.sigmoid(x))\n",
    "        return activations\n",
    "    \n",
    "    def backward(self, activations, di, m):\n",
    "        delta = (activations[-1] - di.T) * self.first_order_sigmoid(np.dot(self.weights[-1], activations[-2]) + self.bias[-1])\n",
    "        for i in range(self.hidden_layers, -1, -1):\n",
    "            if i==self.hidden_layers:\n",
    "                prev=np.array(self.weights[i])\n",
    "                self.weights[i] = self.weights[i] - (self.learning_rate/m) * np.dot(delta,activations[i].T)\n",
    "                self.bias[i] = self.bias[i] - (self.learning_rate/m) * np.sum(delta, axis=1, keepdims=True)\n",
    "            else:\n",
    "                delta = np.dot(prev.T, delta) * self.first_order_sigmoid(np.dot(self.weights[i], activations[i]) + self.bias[i])\n",
    "                prev = np.array(self.weights[i])\n",
    "                self.weights[i] = self.weights[i] - (self.learning_rate/m) * np.dot(delta, activations[i].T)\n",
    "                self.bias[i]= self.bias[i] - (self.learning_rate/m) * np.sum(delta, axis=1, keepdims=True)\n",
    "                \n",
    "    def train(self, x, y, epochs):\n",
    "        for i in range(epochs):\n",
    "            activations = self.forward(x)\n",
    "            m = x.shape[1]\n",
    "            self.backward(activations, y ,m)\n",
    "            if(i%1000==0):\n",
    "                print(\"Error at %d epoch : \"%(i), np.sum(activations[-1] - y.T))\n",
    "                \n",
    "    def predict(self, x):\n",
    "        predictions= []\n",
    "        for input in x:\n",
    "            prediction = self.forward(np.array(input))\n",
    "            predictions.append(prediction[-1])\n",
    "        return predictions"
   ]
  },
  {
   "cell_type": "code",
   "execution_count": 2,
   "id": "670c46fa",
   "metadata": {},
   "outputs": [],
   "source": [
    "input_size = 4\n",
    "hidden_layers = 2\n",
    "neurons_in_hidden_layer = 5\n",
    "output_size = 3\n",
    "learning_rate = 0.1\n",
    "\n",
    "model=ANN(input_size, hidden_layers, neurons_in_hidden_layer, output_size, learning_rate)"
   ]
  },
  {
   "cell_type": "code",
   "execution_count": 3,
   "id": "9080213b",
   "metadata": {},
   "outputs": [],
   "source": [
    "import pandas as pd\n",
    "df=pd.read_csv('Iris.csv')\n",
    "x=df.drop(['Id','Species'], axis=1)\n",
    "y=df['Species']"
   ]
  },
  {
   "cell_type": "code",
   "execution_count": 4,
   "id": "dba8f0d2",
   "metadata": {},
   "outputs": [
    {
     "name": "stderr",
     "output_type": "stream",
     "text": [
      "C:\\ProgramData\\Anaconda3\\lib\\site-packages\\scipy\\__init__.py:155: UserWarning: A NumPy version >=1.18.5 and <1.25.0 is required for this version of SciPy (detected version 1.26.4\n",
      "  warnings.warn(f\"A NumPy version >={np_minversion} and <{np_maxversion}\"\n"
     ]
    }
   ],
   "source": [
    "import numpy as np\n",
    "from sklearn.preprocessing import LabelEncoder\n",
    "label_encoder = LabelEncoder()\n",
    "encoded_labels = label_encoder.fit_transform(y)\n",
    "\n",
    "from sklearn.model_selection import train_test_split\n",
    "x_train, x_test, y_train, y_test = train_test_split(x, encoded_labels, test_size=0.2, random_state=62)\n",
    "\n",
    "from tensorflow.keras.utils import to_categorical\n",
    "\n",
    "labels = np.array(y_train)\n",
    "y_train = to_categorical(labels)\n",
    "y_train = np.array(y_train)"
   ]
  },
  {
   "cell_type": "code",
   "execution_count": 5,
   "id": "16a7d103",
   "metadata": {},
   "outputs": [],
   "source": [
    "x_train = x_train.values\n",
    "x_train = np.array(x_train)\n",
    "x_train = x_train.T\n",
    "x_test = x_test.values"
   ]
  },
  {
   "cell_type": "code",
   "execution_count": 6,
   "id": "a9a2ea72",
   "metadata": {},
   "outputs": [
    {
     "data": {
      "text/plain": [
       "array([[0., 1., 0.],\n",
       "       [0., 1., 0.],\n",
       "       [0., 0., 1.],\n",
       "       [0., 0., 1.],\n",
       "       [1., 0., 0.],\n",
       "       [1., 0., 0.],\n",
       "       [0., 0., 1.],\n",
       "       [0., 1., 0.],\n",
       "       [0., 0., 1.],\n",
       "       [0., 0., 1.],\n",
       "       [0., 0., 1.],\n",
       "       [0., 0., 1.],\n",
       "       [0., 1., 0.],\n",
       "       [1., 0., 0.],\n",
       "       [0., 0., 1.],\n",
       "       [0., 1., 0.],\n",
       "       [1., 0., 0.],\n",
       "       [0., 0., 1.],\n",
       "       [1., 0., 0.],\n",
       "       [0., 0., 1.],\n",
       "       [1., 0., 0.],\n",
       "       [0., 0., 1.],\n",
       "       [1., 0., 0.],\n",
       "       [0., 1., 0.],\n",
       "       [1., 0., 0.],\n",
       "       [0., 0., 1.],\n",
       "       [1., 0., 0.],\n",
       "       [0., 1., 0.],\n",
       "       [1., 0., 0.],\n",
       "       [1., 0., 0.],\n",
       "       [1., 0., 0.],\n",
       "       [0., 1., 0.],\n",
       "       [0., 1., 0.],\n",
       "       [1., 0., 0.],\n",
       "       [0., 0., 1.],\n",
       "       [0., 1., 0.],\n",
       "       [0., 1., 0.],\n",
       "       [0., 1., 0.],\n",
       "       [0., 0., 1.],\n",
       "       [0., 1., 0.],\n",
       "       [1., 0., 0.],\n",
       "       [0., 0., 1.],\n",
       "       [0., 1., 0.],\n",
       "       [1., 0., 0.],\n",
       "       [0., 0., 1.],\n",
       "       [0., 1., 0.],\n",
       "       [1., 0., 0.],\n",
       "       [0., 1., 0.],\n",
       "       [0., 1., 0.],\n",
       "       [0., 1., 0.],\n",
       "       [0., 0., 1.],\n",
       "       [1., 0., 0.],\n",
       "       [1., 0., 0.],\n",
       "       [0., 1., 0.],\n",
       "       [1., 0., 0.],\n",
       "       [0., 1., 0.],\n",
       "       [1., 0., 0.],\n",
       "       [0., 0., 1.],\n",
       "       [0., 0., 1.],\n",
       "       [0., 1., 0.],\n",
       "       [0., 1., 0.],\n",
       "       [1., 0., 0.],\n",
       "       [0., 0., 1.],\n",
       "       [1., 0., 0.],\n",
       "       [0., 1., 0.],\n",
       "       [0., 1., 0.],\n",
       "       [1., 0., 0.],\n",
       "       [1., 0., 0.],\n",
       "       [0., 1., 0.],\n",
       "       [1., 0., 0.],\n",
       "       [0., 0., 1.],\n",
       "       [0., 1., 0.],\n",
       "       [0., 1., 0.],\n",
       "       [1., 0., 0.],\n",
       "       [0., 0., 1.],\n",
       "       [1., 0., 0.],\n",
       "       [0., 0., 1.],\n",
       "       [0., 0., 1.],\n",
       "       [0., 0., 1.],\n",
       "       [0., 1., 0.],\n",
       "       [1., 0., 0.],\n",
       "       [0., 0., 1.],\n",
       "       [0., 0., 1.],\n",
       "       [0., 0., 1.],\n",
       "       [0., 1., 0.],\n",
       "       [1., 0., 0.],\n",
       "       [0., 0., 1.],\n",
       "       [0., 0., 1.],\n",
       "       [1., 0., 0.],\n",
       "       [0., 1., 0.],\n",
       "       [0., 1., 0.],\n",
       "       [0., 1., 0.],\n",
       "       [0., 1., 0.],\n",
       "       [0., 1., 0.],\n",
       "       [0., 1., 0.],\n",
       "       [0., 0., 1.],\n",
       "       [0., 0., 1.],\n",
       "       [0., 0., 1.],\n",
       "       [1., 0., 0.],\n",
       "       [0., 0., 1.],\n",
       "       [0., 0., 1.],\n",
       "       [0., 1., 0.],\n",
       "       [0., 0., 1.],\n",
       "       [1., 0., 0.],\n",
       "       [1., 0., 0.],\n",
       "       [0., 1., 0.],\n",
       "       [1., 0., 0.],\n",
       "       [0., 0., 1.],\n",
       "       [0., 1., 0.],\n",
       "       [0., 1., 0.],\n",
       "       [0., 1., 0.],\n",
       "       [0., 0., 1.],\n",
       "       [1., 0., 0.],\n",
       "       [0., 1., 0.],\n",
       "       [1., 0., 0.],\n",
       "       [0., 0., 1.],\n",
       "       [0., 0., 1.],\n",
       "       [0., 1., 0.],\n",
       "       [1., 0., 0.],\n",
       "       [1., 0., 0.]])"
      ]
     },
     "execution_count": 6,
     "metadata": {},
     "output_type": "execute_result"
    }
   ],
   "source": [
    "y_train"
   ]
  },
  {
   "cell_type": "code",
   "execution_count": 7,
   "id": "4e76ce9a",
   "metadata": {},
   "outputs": [
    {
     "name": "stdout",
     "output_type": "stream",
     "text": [
      "Error at 0 epoch :  114.79889995151545\n",
      "Error at 1000 epoch :  8.332583394239949\n",
      "Error at 2000 epoch :  8.871376504759901\n",
      "Error at 3000 epoch :  7.322579757941519\n",
      "Error at 4000 epoch :  6.3326672340094445\n",
      "Error at 5000 epoch :  5.18378497724828\n",
      "Error at 6000 epoch :  4.1738761777541935\n",
      "Error at 7000 epoch :  3.454653849347544\n",
      "Error at 8000 epoch :  2.961157669807525\n",
      "Error at 9000 epoch :  2.6170641917732054\n",
      "Error at 10000 epoch :  2.3660979905998385\n",
      "Error at 11000 epoch :  2.1735670755469307\n",
      "Error at 12000 epoch :  2.019737067699249\n",
      "Error at 13000 epoch :  1.893210549689019\n",
      "Error at 14000 epoch :  1.786945205103077\n",
      "Error at 15000 epoch :  1.696259841244221\n",
      "Error at 16000 epoch :  1.6178605803975472\n",
      "Error at 17000 epoch :  1.5493368320988719\n",
      "Error at 18000 epoch :  1.4888762245377936\n",
      "Error at 19000 epoch :  1.4350891794746645\n",
      "Error at 20000 epoch :  1.3868937237940058\n",
      "Error at 21000 epoch :  1.343436389021532\n",
      "Error at 22000 epoch :  1.304036234823309\n",
      "Error at 23000 epoch :  1.268144396679312\n",
      "Error at 24000 epoch :  1.235314380637091\n",
      "Error at 25000 epoch :  1.205179950429026\n",
      "Error at 26000 epoch :  1.1774384539348381\n",
      "Error at 27000 epoch :  1.151838087320226\n",
      "Error at 28000 epoch :  1.1281680339190956\n",
      "Error at 29000 epoch :  1.1062507176070677\n",
      "Error at 30000 epoch :  1.0859356228512689\n",
      "Error at 31000 epoch :  1.0670942847553995\n",
      "Error at 32000 epoch :  1.0496161611958152\n",
      "Error at 33000 epoch :  1.0334051782946478\n",
      "Error at 34000 epoch :  1.0183767986815024\n",
      "Error at 35000 epoch :  1.0044555052706796\n",
      "Error at 36000 epoch :  0.9915726258429653\n",
      "Error at 37000 epoch :  0.9796644485399071\n",
      "Error at 38000 epoch :  0.9686705975225441\n",
      "Error at 39000 epoch :  0.958532652896039\n",
      "Error at 40000 epoch :  0.9491930103639873\n",
      "Error at 41000 epoch :  0.9405939842873022\n",
      "Error at 42000 epoch :  0.9326771628208549\n",
      "Error at 43000 epoch :  0.92538302525006\n",
      "Error at 44000 epoch :  0.9186508291099393\n",
      "Error at 45000 epoch :  0.9124187678008471\n",
      "Error at 46000 epoch :  0.9066243882595979\n",
      "Error at 47000 epoch :  0.9012052434546751\n",
      "Error at 48000 epoch :  0.8960997375216437\n",
      "Error at 49000 epoch :  0.8912481045032703\n",
      "Error at 50000 epoch :  0.8865934477554158\n",
      "Error at 51000 epoch :  0.8820827590247737\n",
      "Error at 52000 epoch :  0.877667836285833\n",
      "Error at 53000 epoch :  0.8733060286337229\n",
      "Error at 54000 epoch :  0.8689607541397192\n",
      "Error at 55000 epoch :  0.8646017601695934\n",
      "Error at 56000 epoch :  0.8602051216228608\n",
      "Error at 57000 epoch :  0.8557529969163762\n",
      "Error at 58000 epoch :  0.8512331809328927\n",
      "Error at 59000 epoch :  0.8466385064657966\n",
      "Error at 60000 epoch :  0.8419661503478273\n",
      "Error at 61000 epoch :  0.8372168982715099\n",
      "Error at 62000 epoch :  0.8323944150413496\n",
      "Error at 63000 epoch :  0.8275045567624391\n",
      "Error at 64000 epoch :  0.8225547502685571\n",
      "Error at 65000 epoch :  0.8175534544885772\n",
      "Error at 66000 epoch :  0.8125097094509272\n",
      "Error at 67000 epoch :  0.8074327716952348\n",
      "Error at 68000 epoch :  0.8023318300571474\n",
      "Error at 69000 epoch :  0.7972157928864201\n",
      "Error at 70000 epoch :  0.7920931363942109\n",
      "Error at 71000 epoch :  0.7869718035980509\n",
      "Error at 72000 epoch :  0.7818591438758059\n",
      "Error at 73000 epoch :  0.7767618841392561\n",
      "Error at 74000 epoch :  0.7716861238577852\n",
      "Error at 75000 epoch :  0.7666373474388407\n",
      "Error at 76000 epoch :  0.7616204486904253\n",
      "Error at 77000 epoch :  0.7566397631923132\n",
      "Error at 78000 epoch :  0.7516991053589567\n",
      "Error at 79000 epoch :  0.7468018077766121\n",
      "Error at 80000 epoch :  0.7419507610496421\n",
      "Error at 81000 epoch :  0.7371484529113331\n",
      "Error at 82000 epoch :  0.7323970057597406\n",
      "Error at 83000 epoch :  0.7276982120864733\n",
      "Error at 84000 epoch :  0.7230535674975451\n",
      "Error at 85000 epoch :  0.7184643011919849\n",
      "Error at 86000 epoch :  0.7139314038827941\n",
      "Error at 87000 epoch :  0.709455653224895\n",
      "Error at 88000 epoch :  0.7050376368678154\n",
      "Error at 89000 epoch :  0.7006777732820118\n",
      "Error at 90000 epoch :  0.6963763305234811\n",
      "Error at 91000 epoch :  0.692133443108039\n",
      "Error at 92000 epoch :  0.6879491271637458\n",
      "Error at 93000 epoch :  0.6838232940240352\n",
      "Error at 94000 epoch :  0.6797557624146486\n",
      "Error at 95000 epoch :  0.6757462693757861\n",
      "Error at 96000 epoch :  0.6717944800502056\n",
      "Error at 97000 epoch :  0.6678999964546277\n",
      "Error at 98000 epoch :  0.6640623653419746\n",
      "Error at 99000 epoch :  0.6602810852499736\n"
     ]
    }
   ],
   "source": [
    "epochs = 100000\n",
    "model.train(x_train, y_train, epochs)"
   ]
  },
  {
   "cell_type": "code",
   "execution_count": 8,
   "id": "e4b9e35e",
   "metadata": {},
   "outputs": [
    {
     "name": "stdout",
     "output_type": "stream",
     "text": [
      "[[0.00109345]\n",
      " [0.01163715]\n",
      " [0.99181231]]\n"
     ]
    }
   ],
   "source": [
    "hh = model.forward([[6.7], [3.0], [5.2], [2.3]])\n",
    "print(hh[-1])"
   ]
  },
  {
   "cell_type": "code",
   "execution_count": 9,
   "id": "83051a50",
   "metadata": {},
   "outputs": [],
   "source": [
    "test_sample = []\n",
    "for i in x_test:\n",
    "    test_sample.append([[x] for x in i.tolist()])"
   ]
  },
  {
   "cell_type": "code",
   "execution_count": 10,
   "id": "86b4336a",
   "metadata": {},
   "outputs": [],
   "source": [
    "y_pred = model.predict(test_sample)\n",
    "y_pred = np.hstack([np.argmax(arr, axis=0) for arr in y_pred]).flatten()"
   ]
  },
  {
   "cell_type": "code",
   "execution_count": 11,
   "id": "a5af69ca",
   "metadata": {},
   "outputs": [
    {
     "name": "stdout",
     "output_type": "stream",
     "text": [
      "[2 2 0 0 2 1 2 0 1 1 2 2 0 1 1 1 0 1 0 0 0 0 2 1 2 0 2 0 2 0]\n"
     ]
    }
   ],
   "source": [
    "print(y_test)"
   ]
  },
  {
   "cell_type": "code",
   "execution_count": 12,
   "id": "01714f65",
   "metadata": {},
   "outputs": [
    {
     "name": "stdout",
     "output_type": "stream",
     "text": [
      "[2 2 0 0 2 1 2 0 1 1 2 2 0 1 1 1 0 1 0 0 0 0 2 1 2 0 2 0 2 0]\n"
     ]
    }
   ],
   "source": [
    "print(y_pred)"
   ]
  },
  {
   "cell_type": "code",
   "execution_count": 13,
   "id": "1f7953b4",
   "metadata": {},
   "outputs": [
    {
     "name": "stdout",
     "output_type": "stream",
     "text": [
      "Accuracy: 1.0\n",
      "Precision: 1.0\n",
      "Recall: 1.0\n",
      "F1-score: 1.0\n"
     ]
    }
   ],
   "source": [
    "from sklearn.metrics import accuracy_score, f1_score, precision_score, recall_score, confusion_matrix\n",
    "accuracy = accuracy_score(y_test, y_pred)\n",
    "precision = precision_score(y_test, y_pred, average='weighted')\n",
    "recall = recall_score(y_test, y_pred, average='weighted')\n",
    "f1score = f1_score(y_test, y_pred, average='weighted')\n",
    "print(\"Accuracy:\", accuracy)\n",
    "print(\"Precision:\", precision)\n",
    "print(\"Recall:\", recall)\n",
    "print(\"F1-score:\", f1score)"
   ]
  },
  {
   "cell_type": "code",
   "execution_count": null,
   "id": "db4d094e",
   "metadata": {},
   "outputs": [],
   "source": []
  }
 ],
 "metadata": {
  "kernelspec": {
   "display_name": "Python 3 (ipykernel)",
   "language": "python",
   "name": "python3"
  },
  "language_info": {
   "codemirror_mode": {
    "name": "ipython",
    "version": 3
   },
   "file_extension": ".py",
   "mimetype": "text/x-python",
   "name": "python",
   "nbconvert_exporter": "python",
   "pygments_lexer": "ipython3",
   "version": "3.9.13"
  }
 },
 "nbformat": 4,
 "nbformat_minor": 5
}
